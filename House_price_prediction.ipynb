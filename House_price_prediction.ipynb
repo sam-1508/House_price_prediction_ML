{
  "nbformat": 4,
  "nbformat_minor": 0,
  "metadata": {
    "colab": {
      "provenance": []
    },
    "kernelspec": {
      "name": "python3",
      "display_name": "Python 3"
    },
    "language_info": {
      "name": "python"
    }
  },
  "cells": [
    {
      "cell_type": "code",
      "source": [
        "# Import necessary libraries\n",
        "import pandas as pd\n",
        "from sklearn.model_selection import train_test_split\n",
        "from sklearn.metrics import mean_squared_error\n",
        "import matplotlib.pyplot as plt\n",
        "import tensorflow as tf\n",
        "from tensorflow.keras.models import Sequential\n",
        "from tensorflow.keras.layers import Dense, SimpleRNN\n",
        "from tensorflow.keras.optimizers import Adam\n"
      ],
      "metadata": {
        "id": "zf3Iqb8rg-vP"
      },
      "execution_count": 80,
      "outputs": []
    },
    {
      "cell_type": "code",
      "source": [
        "# Load the dataset\n",
        "data = pd.read_csv('/content/house_price.csv')\n",
        "\n",
        "# Assuming 'price' is the target variable\n",
        "X = data.drop('price', axis=1)\n",
        "y = data['price']\n"
      ],
      "metadata": {
        "id": "QSOIrqeJh2LV"
      },
      "execution_count": 81,
      "outputs": []
    },
    {
      "cell_type": "code",
      "source": [
        "print(data.head())"
      ],
      "metadata": {
        "colab": {
          "base_uri": "https://localhost:8080/"
        },
        "id": "ZVKRvtTLm4fW",
        "outputId": "7bf576ad-4106-461b-9696-7b863d2c291a"
      },
      "execution_count": 82,
      "outputs": [
        {
          "output_type": "stream",
          "name": "stdout",
          "text": [
            "   id    price  lotsize  bedrooms  bathrms  stories  driveway  recroom  \\\n",
            "0   1  42000.0     5850         3        1        2         1        0   \n",
            "1   2  38500.0     4000         2        1        1         1        0   \n",
            "2   3  49500.0     3060         3        1        1         1        0   \n",
            "3   4  60500.0     6650         3        1        2         1        1   \n",
            "4   5  61000.0     6360         2        1        1         1        0   \n",
            "\n",
            "   fullbase  gashw  airco  garagepl  prefarea  \n",
            "0         1      0      0         1         0  \n",
            "1         0      0      0         0         0  \n",
            "2         0      0      0         0         0  \n",
            "3         0      0      0         0         0  \n",
            "4         0      0      0         0         0  \n"
          ]
        }
      ]
    },
    {
      "cell_type": "code",
      "source": [
        "\n",
        "# Display the data types of each column\n",
        "print(data.dtypes)"
      ],
      "metadata": {
        "colab": {
          "base_uri": "https://localhost:8080/"
        },
        "id": "AgvB6PtGm3BW",
        "outputId": "79f3cea3-325e-4fd9-a5bc-b967320b739b"
      },
      "execution_count": 83,
      "outputs": [
        {
          "output_type": "stream",
          "name": "stdout",
          "text": [
            "id            int64\n",
            "price       float64\n",
            "lotsize       int64\n",
            "bedrooms      int64\n",
            "bathrms       int64\n",
            "stories       int64\n",
            "driveway      int64\n",
            "recroom       int64\n",
            "fullbase      int64\n",
            "gashw         int64\n",
            "airco         int64\n",
            "garagepl      int64\n",
            "prefarea      int64\n",
            "dtype: object\n"
          ]
        }
      ]
    },
    {
      "cell_type": "code",
      "source": [
        "# Split the data into training and testing sets\n",
        "X_train, X_test, y_train, y_test = train_test_split(X, y, test_size=0.2, random_state=42)"
      ],
      "metadata": {
        "id": "f5WT9HhXh2N9"
      },
      "execution_count": 87,
      "outputs": []
    },
    {
      "cell_type": "code",
      "source": [
        "# Convert pandas DataFrame to NumPy arrays\n",
        "X_train_np = X_train.values\n",
        "y_train_np = y_train.values\n",
        "X_test_np = X_test.values\n",
        "y_test_np = y_test.values\n",
        "\n",
        "X_train_np = X_train_np.reshape((X_train_np.shape[0], 1, X_train_np.shape[1]))\n",
        "X_test_np = X_test_np.reshape((X_test_np.shape[0], 1, X_test_np.shape[1]))\n"
      ],
      "metadata": {
        "id": "prGiolcsjwpp"
      },
      "execution_count": 88,
      "outputs": []
    },
    {
      "cell_type": "code",
      "source": [
        "# TensorFlow Multiple Linear Regression model\n",
        "mlr_model = Sequential([\n",
        "    Dense(units=1, input_dim=X_train.shape[1])\n",
        "])\n",
        "\n",
        "mlr_model.compile(optimizer=Adam(learning_rate=0.001), loss='mean_squared_error')\n",
        "\n",
        "# Train the MLR model and include validation data\n",
        "history_mlr = mlr_model.fit(X_train, y_train, epochs=50, batch_size=32, verbose=1, validation_data=(X_test, y_test))"
      ],
      "metadata": {
        "colab": {
          "base_uri": "https://localhost:8080/"
        },
        "id": "e_RRa3Ovjwwt",
        "outputId": "f7b38f10-5fa2-4aa4-e283-6b05a03ee0e8"
      },
      "execution_count": 89,
      "outputs": [
        {
          "output_type": "stream",
          "name": "stdout",
          "text": [
            "Epoch 1/50\n",
            "14/14 [==============================] - 1s 12ms/step - loss: 5553093120.0000 - val_loss: 4943428096.0000\n",
            "Epoch 2/50\n",
            "14/14 [==============================] - 0s 5ms/step - loss: 5541428736.0000 - val_loss: 4933440000.0000\n",
            "Epoch 3/50\n",
            "14/14 [==============================] - 0s 4ms/step - loss: 5529856000.0000 - val_loss: 4923321344.0000\n",
            "Epoch 4/50\n",
            "14/14 [==============================] - 0s 4ms/step - loss: 5518575104.0000 - val_loss: 4913030144.0000\n",
            "Epoch 5/50\n",
            "14/14 [==============================] - 0s 5ms/step - loss: 5506862080.0000 - val_loss: 4903032832.0000\n",
            "Epoch 6/50\n",
            "14/14 [==============================] - 0s 5ms/step - loss: 5495324672.0000 - val_loss: 4893086208.0000\n",
            "Epoch 7/50\n",
            "14/14 [==============================] - 0s 5ms/step - loss: 5483963392.0000 - val_loss: 4882945536.0000\n",
            "Epoch 8/50\n",
            "14/14 [==============================] - 0s 4ms/step - loss: 5472467456.0000 - val_loss: 4872910336.0000\n",
            "Epoch 9/50\n",
            "14/14 [==============================] - 0s 5ms/step - loss: 5461132288.0000 - val_loss: 4862782976.0000\n",
            "Epoch 10/50\n",
            "14/14 [==============================] - 0s 5ms/step - loss: 5449497600.0000 - val_loss: 4852946432.0000\n",
            "Epoch 11/50\n",
            "14/14 [==============================] - 0s 5ms/step - loss: 5438308864.0000 - val_loss: 4842909696.0000\n",
            "Epoch 12/50\n",
            "14/14 [==============================] - 0s 6ms/step - loss: 5426939392.0000 - val_loss: 4832942592.0000\n",
            "Epoch 13/50\n",
            "14/14 [==============================] - 0s 5ms/step - loss: 5415499776.0000 - val_loss: 4823150592.0000\n",
            "Epoch 14/50\n",
            "14/14 [==============================] - 0s 4ms/step - loss: 5404359680.0000 - val_loss: 4813195264.0000\n",
            "Epoch 15/50\n",
            "14/14 [==============================] - 0s 5ms/step - loss: 5392947712.0000 - val_loss: 4803397120.0000\n",
            "Epoch 16/50\n",
            "14/14 [==============================] - 0s 6ms/step - loss: 5381820928.0000 - val_loss: 4793461760.0000\n",
            "Epoch 17/50\n",
            "14/14 [==============================] - 0s 7ms/step - loss: 5370477568.0000 - val_loss: 4783661056.0000\n",
            "Epoch 18/50\n",
            "14/14 [==============================] - 0s 6ms/step - loss: 5359275008.0000 - val_loss: 4773845504.0000\n",
            "Epoch 19/50\n",
            "14/14 [==============================] - 0s 7ms/step - loss: 5348195328.0000 - val_loss: 4763865088.0000\n",
            "Epoch 20/50\n",
            "14/14 [==============================] - 0s 7ms/step - loss: 5336720896.0000 - val_loss: 4754228224.0000\n",
            "Epoch 21/50\n",
            "14/14 [==============================] - 0s 7ms/step - loss: 5325716480.0000 - val_loss: 4744410112.0000\n",
            "Epoch 22/50\n",
            "14/14 [==============================] - 0s 6ms/step - loss: 5314430976.0000 - val_loss: 4734703616.0000\n",
            "Epoch 23/50\n",
            "14/14 [==============================] - 0s 7ms/step - loss: 5303377408.0000 - val_loss: 4724917760.0000\n",
            "Epoch 24/50\n",
            "14/14 [==============================] - 0s 6ms/step - loss: 5292173824.0000 - val_loss: 4715208192.0000\n",
            "Epoch 25/50\n",
            "14/14 [==============================] - 0s 7ms/step - loss: 5281089536.0000 - val_loss: 4705468928.0000\n",
            "Epoch 26/50\n",
            "14/14 [==============================] - 0s 6ms/step - loss: 5270073344.0000 - val_loss: 4695666688.0000\n",
            "Epoch 27/50\n",
            "14/14 [==============================] - 0s 6ms/step - loss: 5258933760.0000 - val_loss: 4685958144.0000\n",
            "Epoch 28/50\n",
            "14/14 [==============================] - 0s 7ms/step - loss: 5247824896.0000 - val_loss: 4676283392.0000\n",
            "Epoch 29/50\n",
            "14/14 [==============================] - 0s 6ms/step - loss: 5236843008.0000 - val_loss: 4666592768.0000\n",
            "Epoch 30/50\n",
            "14/14 [==============================] - 0s 6ms/step - loss: 5225703424.0000 - val_loss: 4657112064.0000\n",
            "Epoch 31/50\n",
            "14/14 [==============================] - 0s 6ms/step - loss: 5214827008.0000 - val_loss: 4647486976.0000\n",
            "Epoch 32/50\n",
            "14/14 [==============================] - 0s 7ms/step - loss: 5203771904.0000 - val_loss: 4637828608.0000\n",
            "Epoch 33/50\n",
            "14/14 [==============================] - 0s 7ms/step - loss: 5192871424.0000 - val_loss: 4628174848.0000\n",
            "Epoch 34/50\n",
            "14/14 [==============================] - 0s 6ms/step - loss: 5181765632.0000 - val_loss: 4618763776.0000\n",
            "Epoch 35/50\n",
            "14/14 [==============================] - 0s 7ms/step - loss: 5171070464.0000 - val_loss: 4609112576.0000\n",
            "Epoch 36/50\n",
            "14/14 [==============================] - 0s 7ms/step - loss: 5160104960.0000 - val_loss: 4599569920.0000\n",
            "Epoch 37/50\n",
            "14/14 [==============================] - 0s 6ms/step - loss: 5149207552.0000 - val_loss: 4590064128.0000\n",
            "Epoch 38/50\n",
            "14/14 [==============================] - 0s 5ms/step - loss: 5138296320.0000 - val_loss: 4580554240.0000\n",
            "Epoch 39/50\n",
            "14/14 [==============================] - 0s 6ms/step - loss: 5127522816.0000 - val_loss: 4570982400.0000\n",
            "Epoch 40/50\n",
            "14/14 [==============================] - 0s 6ms/step - loss: 5116678656.0000 - val_loss: 4561501184.0000\n",
            "Epoch 41/50\n",
            "14/14 [==============================] - 0s 6ms/step - loss: 5105796608.0000 - val_loss: 4552134656.0000\n",
            "Epoch 42/50\n",
            "14/14 [==============================] - 0s 6ms/step - loss: 5095016448.0000 - val_loss: 4542763520.0000\n",
            "Epoch 43/50\n",
            "14/14 [==============================] - 0s 7ms/step - loss: 5084356096.0000 - val_loss: 4533255168.0000\n",
            "Epoch 44/50\n",
            "14/14 [==============================] - 0s 7ms/step - loss: 5073527808.0000 - val_loss: 4523875840.0000\n",
            "Epoch 45/50\n",
            "14/14 [==============================] - 0s 6ms/step - loss: 5062694912.0000 - val_loss: 4514582016.0000\n",
            "Epoch 46/50\n",
            "14/14 [==============================] - 0s 6ms/step - loss: 5052089856.0000 - val_loss: 4505160704.0000\n",
            "Epoch 47/50\n",
            "14/14 [==============================] - 0s 7ms/step - loss: 5041332736.0000 - val_loss: 4495753216.0000\n",
            "Epoch 48/50\n",
            "14/14 [==============================] - 0s 5ms/step - loss: 5030737920.0000 - val_loss: 4486251520.0000\n",
            "Epoch 49/50\n",
            "14/14 [==============================] - 0s 5ms/step - loss: 5019872256.0000 - val_loss: 4476998144.0000\n",
            "Epoch 50/50\n",
            "14/14 [==============================] - 0s 6ms/step - loss: 5009276416.0000 - val_loss: 4467631616.0000\n"
          ]
        }
      ]
    },
    {
      "cell_type": "code",
      "source": [
        "# Plotting the training and validation loss\n",
        "plt.plot(history.history['loss'], label='Training Loss', color='blue')\n",
        "plt.plot(history.history['val_loss'], label='Validation Loss', color='red')\n",
        "plt.xlabel(\"Epoch\")\n",
        "plt.ylabel(\"Loss\")\n",
        "plt.title(\"Training and Validation Loss (Multiple linear regression)\")\n",
        "plt.legend()\n",
        "plt.show()"
      ],
      "metadata": {
        "colab": {
          "base_uri": "https://localhost:8080/",
          "height": 487
        },
        "id": "IDr6NNeDjwyo",
        "outputId": "776775b8-a927-40d8-f2b5-b6ff5b2742a1"
      },
      "execution_count": 90,
      "outputs": [
        {
          "output_type": "display_data",
          "data": {
            "text/plain": [
              "<Figure size 640x480 with 1 Axes>"
            ],
            "image/png": "[encoded data removed]"
          },
          "metadata": {}
        }
      ]
    }
  ]
}